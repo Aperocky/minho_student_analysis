{
 "cells": [
  {
   "cell_type": "code",
   "execution_count": 4,
   "metadata": {},
   "outputs": [],
   "source": [
    "import pandas as pd\n",
    "import numpy as np\n",
    "from scipy import stats\n",
    "from matplotlib import pyplot as plt\n",
    "from IPython.display import display"
   ]
  },
  {
   "cell_type": "code",
   "execution_count": 44,
   "metadata": {},
   "outputs": [],
   "source": [
    "math = pd.read_csv('student_performance/student-mat.csv', sep=\";\")"
   ]
  },
  {
   "cell_type": "code",
   "execution_count": 45,
   "metadata": {},
   "outputs": [],
   "source": [
    "import sklearn\n",
    "\n",
    "myvals = math[[\"Medu\", \"Fedu\", \"studytime\", \"absences\"]].values.tolist()\n",
    "def f(row):\n",
    "    return 1 if row >= 10 else 0\n",
    "math[\"Passed\"] = math[\"G3\"].apply(f)"
   ]
  },
  {
   "cell_type": "code",
   "execution_count": 46,
   "metadata": {},
   "outputs": [
    {
     "data": {
      "text/plain": [
       "SVC(C=1.0, cache_size=200, class_weight=None, coef0=0.0,\n",
       "  decision_function_shape='ovr', degree=3, gamma='auto', kernel='rbf',\n",
       "  max_iter=-1, probability=False, random_state=None, shrinking=True,\n",
       "  tol=0.001, verbose=False)"
      ]
     },
     "execution_count": 46,
     "metadata": {},
     "output_type": "execute_result"
    }
   ],
   "source": [
    "from sklearn import svm\n",
    "myres = math[\"Passed\"].tolist()\n",
    "mysvm = svm.SVC(kernel=\"rbf\")\n",
    "mysvm.fit(myvals, myres)"
   ]
  },
  {
   "cell_type": "code",
   "execution_count": 47,
   "metadata": {},
   "outputs": [
    {
     "name": "stdout",
     "output_type": "stream",
     "text": [
      "[1]\n",
      "[1]\n",
      "[1]\n",
      "[1]\n",
      "[1]\n",
      "[1]\n",
      "[1]\n",
      "[1]\n",
      "[1]\n",
      "[1]\n",
      "[1]\n",
      "[1]\n",
      "[1]\n",
      "[1]\n",
      "[1]\n",
      "[1]\n",
      "[1]\n",
      "[1]\n",
      "[1]\n",
      "[1]\n",
      "[1]\n",
      "[1]\n",
      "[1]\n",
      "[1]\n",
      "[1]\n"
     ]
    }
   ],
   "source": [
    "for i in range(5):\n",
    "    for j in range(5):\n",
    "        res = mysvm.predict([[i,j, 1, 3]])\n",
    "        print(res)"
   ]
  },
  {
   "cell_type": "code",
   "execution_count": 67,
   "metadata": {},
   "outputs": [
    {
     "name": "stdout",
     "output_type": "stream",
     "text": [
      "Epoch 1/50\n",
      " - 0s - loss: 0.3860\n",
      "Epoch 2/50\n",
      " - 0s - loss: 0.3023\n",
      "Epoch 3/50\n",
      " - 0s - loss: 0.2353\n",
      "Epoch 4/50\n",
      " - 0s - loss: 0.2360\n",
      "Epoch 5/50\n",
      " - 0s - loss: 0.2299\n",
      "Epoch 6/50\n",
      " - 0s - loss: 0.2268\n",
      "Epoch 7/50\n",
      " - 0s - loss: 0.2259\n",
      "Epoch 8/50\n",
      " - 0s - loss: 0.2229\n",
      "Epoch 9/50\n",
      " - 0s - loss: 0.2229\n",
      "Epoch 10/50\n",
      " - 0s - loss: 0.2205\n",
      "Epoch 11/50\n",
      " - 0s - loss: 0.2187\n",
      "Epoch 12/50\n",
      " - 0s - loss: 0.2192\n",
      "Epoch 13/50\n",
      " - 0s - loss: 0.2174\n",
      "Epoch 14/50\n",
      " - 0s - loss: 0.2167\n",
      "Epoch 15/50\n",
      " - 0s - loss: 0.2172\n",
      "Epoch 16/50\n",
      " - 0s - loss: 0.2187\n",
      "Epoch 17/50\n",
      " - 0s - loss: 0.2149\n",
      "Epoch 18/50\n",
      " - 0s - loss: 0.2227\n",
      "Epoch 19/50\n",
      " - 0s - loss: 0.2164\n",
      "Epoch 20/50\n",
      " - 0s - loss: 0.2175\n",
      "Epoch 21/50\n",
      " - 0s - loss: 0.2210\n",
      "Epoch 22/50\n",
      " - 0s - loss: 0.2174\n",
      "Epoch 23/50\n",
      " - 0s - loss: 0.2159\n",
      "Epoch 24/50\n",
      " - 0s - loss: 0.2150\n",
      "Epoch 25/50\n",
      " - 0s - loss: 0.2163\n",
      "Epoch 26/50\n",
      " - 0s - loss: 0.2168\n",
      "Epoch 27/50\n",
      " - 0s - loss: 0.2147\n",
      "Epoch 28/50\n",
      " - 0s - loss: 0.2153\n",
      "Epoch 29/50\n",
      " - 0s - loss: 0.2183\n",
      "Epoch 30/50\n",
      " - 0s - loss: 0.2155\n",
      "Epoch 31/50\n",
      " - 0s - loss: 0.2150\n",
      "Epoch 32/50\n",
      " - 0s - loss: 0.2173\n",
      "Epoch 33/50\n",
      " - 0s - loss: 0.2186\n",
      "Epoch 34/50\n",
      " - 0s - loss: 0.2160\n",
      "Epoch 35/50\n",
      " - 0s - loss: 0.2140\n",
      "Epoch 36/50\n",
      " - 0s - loss: 0.2156\n",
      "Epoch 37/50\n",
      " - 0s - loss: 0.2156\n",
      "Epoch 38/50\n",
      " - 0s - loss: 0.2164\n",
      "Epoch 39/50\n",
      " - 0s - loss: 0.2153\n",
      "Epoch 40/50\n",
      " - 0s - loss: 0.2163\n",
      "Epoch 41/50\n",
      " - 0s - loss: 0.2173\n",
      "Epoch 42/50\n",
      " - 0s - loss: 0.2144\n",
      "Epoch 43/50\n",
      " - 0s - loss: 0.2157\n",
      "Epoch 44/50\n",
      " - 0s - loss: 0.2190\n",
      "Epoch 45/50\n",
      " - 0s - loss: 0.2192\n",
      "Epoch 46/50\n",
      " - 0s - loss: 0.2205\n",
      "Epoch 47/50\n",
      " - 0s - loss: 0.2195\n",
      "Epoch 48/50\n",
      " - 0s - loss: 0.2190\n",
      "Epoch 49/50\n",
      " - 0s - loss: 0.2177\n",
      "Epoch 50/50\n",
      " - 0s - loss: 0.2190\n",
      "0.230556864370691\n"
     ]
    }
   ],
   "source": [
    "import keras\n",
    "from keras.layers import Dense\n",
    "\n",
    "model = keras.models.Sequential()\n",
    "model.add(Dense(32, input_dim=4))\n",
    "model.add(Dense(64))\n",
    "model.add(Dense(1))\n",
    "model.compile(loss=\"mse\", optimizer=\"adam\")\n",
    "\n",
    "trainingdata = math.loc[:300, [\"Medu\", \"Fedu\", \"studytime\", \"absences\"]]\n",
    "trainingdata -= trainingdata.min()\n",
    "trainingdata /= trainingdata.max()\n",
    "training = trainingdata.values\n",
    "results = math.loc[:300, [\"Passed\"]].values\n",
    "\n",
    "testingdata = math.loc[301:, [\"Medu\", \"Fedu\", \"studytime\", \"absences\"]]\n",
    "testingdata -= testingdata.min()\n",
    "testingdata /= testingdata.max()\n",
    "testing = testingdata.values\n",
    "testresults = math.loc[301:, [\"Passed\"]].values\n",
    "\n",
    "model.fit(training, results, shuffle=True, verbose=2, epochs=50)\n",
    "test_error = model.evaluate(testing, testresults, verbose=2)\n",
    "print(test_error)"
   ]
  },
  {
   "cell_type": "code",
   "execution_count": 77,
   "metadata": {},
   "outputs": [
    {
     "data": {
      "text/plain": [
       "array([[0.04312471]], dtype=float32)"
      ]
     },
     "execution_count": 77,
     "metadata": {},
     "output_type": "execute_result"
    }
   ],
   "source": [
    "model.predict(np.asarray([[0.1,0.2,0.2,0.9]]))"
   ]
  },
  {
   "cell_type": "code",
   "execution_count": null,
   "metadata": {},
   "outputs": [],
   "source": []
  }
 ],
 "metadata": {
  "kernelspec": {
   "display_name": "Python 3",
   "language": "python",
   "name": "python3"
  },
  "language_info": {
   "codemirror_mode": {
    "name": "ipython",
    "version": 3
   },
   "file_extension": ".py",
   "mimetype": "text/x-python",
   "name": "python",
   "nbconvert_exporter": "python",
   "pygments_lexer": "ipython3",
   "version": "3.6.4"
  }
 },
 "nbformat": 4,
 "nbformat_minor": 2
}
