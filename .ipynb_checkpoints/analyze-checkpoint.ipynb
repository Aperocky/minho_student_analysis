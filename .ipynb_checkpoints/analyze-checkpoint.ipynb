{
 "cells": [
  {
   "cell_type": "markdown",
   "metadata": {},
   "source": [
    "# An Analysis of Student Performance\n",
    "\n",
    "## General Description\n",
    "\n",
    "The following document analyze student performance with data derived from the University of Minho, Portugal. It aims to create a general understanding of what and how are the different variables in student's life is affecting the final score of the student.\n",
    "\n",
    "## Steps\n",
    "\n",
    "I aim to do this in following steps.\n",
    "\n",
    "1. Ingestion of data.\n",
    "2. Verify and clean the data\n",
    "3. Data mining: establish points of interest.\n",
    "4. Explore further into these points.\n",
    "5. Conclusion and insights."
   ]
  },
  {
   "cell_type": "code",
   "execution_count": 2,
   "metadata": {},
   "outputs": [],
   "source": [
    "import pandas as pd\n",
    "import numpy as np\n",
    "from scipy import stats\n",
    "from matplotlib import pyplot as plt\n",
    "from IPython.display import display"
   ]
  },
  {
   "cell_type": "markdown",
   "metadata": {},
   "source": [
    "### Ingestion of Data"
   ]
  },
  {
   "cell_type": "code",
   "execution_count": 3,
   "metadata": {},
   "outputs": [],
   "source": [
    "# Load the data.\n",
    "math = pd.read_csv('student_performance/student-mat.csv', sep=\";\")"
   ]
  },
  {
   "cell_type": "markdown",
   "metadata": {},
   "source": [
    "### Verify and Clean the Data"
   ]
  },
  {
   "cell_type": "code",
   "execution_count": 4,
   "metadata": {},
   "outputs": [
    {
     "data": {
      "text/plain": [
       "school        0\n",
       "sex           0\n",
       "age           0\n",
       "address       0\n",
       "famsize       0\n",
       "Pstatus       0\n",
       "Medu          0\n",
       "Fedu          0\n",
       "Mjob          0\n",
       "Fjob          0\n",
       "reason        0\n",
       "guardian      0\n",
       "traveltime    0\n",
       "studytime     0\n",
       "failures      0\n",
       "schoolsup     0\n",
       "famsup        0\n",
       "paid          0\n",
       "activities    0\n",
       "nursery       0\n",
       "higher        0\n",
       "internet      0\n",
       "romantic      0\n",
       "famrel        0\n",
       "freetime      0\n",
       "goout         0\n",
       "Dalc          0\n",
       "Walc          0\n",
       "health        0\n",
       "absences      0\n",
       "G1            0\n",
       "G2            0\n",
       "G3            0\n",
       "dtype: int64"
      ]
     },
     "execution_count": 4,
     "metadata": {},
     "output_type": "execute_result"
    }
   ],
   "source": [
    "# First, we test for data completeness.\n",
    "\n",
    "math.isnull().sum()"
   ]
  },
  {
   "cell_type": "markdown",
   "metadata": {},
   "source": [
    "Since all columns contains no null value (empty), it means that the data is complete (does not suffer from missing data). While this doesn't guarantee the data is well formed, which we try to do next.\n",
    "\n",
    "We set up a test to see if there are any anomaly in our data."
   ]
  },
  {
   "cell_type": "code",
   "execution_count": 18,
   "metadata": {},
   "outputs": [
    {
     "data": {
      "text/plain": [
       "<matplotlib.text.Text at 0x113c8a128>"
      ]
     },
     "execution_count": 18,
     "metadata": {},
     "output_type": "execute_result"
    },
    {
     "data": {
      "image/png": "[encoded data removed]",
      "text/plain": [
       "<matplotlib.figure.Figure at 0x11473dcc0>"
      ]
     },
     "metadata": {},
     "output_type": "display_data"
    }
   ],
   "source": [
    "# Data Integrity and cleaning.\n",
    "\n",
    "fig, ax = plt.subplots()\n",
    "ax.hist(math[\"G3\"], np.linspace(-0.5, 20.5, 22), edgecolor=\"k\", alpha=0.5)\n",
    "ax.set_xlabel(\"Score\")\n",
    "ax.set_ylabel(\"Count\")\n",
    "ax.set_title(\"Raw G3 Test Distribution\")"
   ]
  },
  {
   "cell_type": "markdown",
   "metadata": {},
   "source": [
    "As we can see, there're a decent amount of outliers at 0. This is most likely not natural. It is very likely that good students had to miss the test due to circumstances, and thus it does not reflect their academic strength.\n",
    "\n",
    "The rest of this histogram resembles a normal distribution, and the amount of outliers at 0 should not be considered from a statistical standpoint. For the sake of accuracy of the statistical analysis and to restore the quality of the data, we will remove records with 0 scores and store the new data in `data_cleaned`."
   ]
  },
  {
   "cell_type": "code",
   "execution_count": 17,
   "metadata": {},
   "outputs": [
    {
     "data": {
      "text/plain": [
       "<matplotlib.text.Text at 0x1147af128>"
      ]
     },
     "execution_count": 17,
     "metadata": {},
     "output_type": "execute_result"
    },
    {
     "data": {
      "image/png": "[encoded data removed]",
      "text/plain": [
       "<matplotlib.figure.Figure at 0x113bf3eb8>"
      ]
     },
     "metadata": {},
     "output_type": "display_data"
    }
   ],
   "source": [
    "math_cleaned = math[math[\"G3\"] != 0]\n",
    "\n",
    "# Look at the cleaned data.\n",
    "fig1, ax1 = plt.subplots()\n",
    "ax1.hist(math_cleaned[\"G3\"], np.linspace(-0.5, 20.5, 22), edgecolor=\"k\", alpha=0.5)\n",
    "ax1.set_xlabel(\"Score\")\n",
    "ax1.set_ylabel(\"Count\")\n",
    "ax1.set_title(\"Cleaned G3 Test Distribution\")"
   ]
  },
  {
   "cell_type": "markdown",
   "metadata": {},
   "source": [
    "This data is much better formed, we can now continue with our analysis.\n",
    "\n",
    "### Data Mining\n",
    "\n",
    "Instead of randomly poking around with data, we'll use a simple script to determine which parameter will be worth looking into. This script uses one way anova to calculate the P-value of each individual variables in the data for both raw and cleaned data, which determines how each individual column of data correlate to the final test score of the student.\n",
    "\n",
    "In the case of numeric data type, it will also try to calculate the correlation coefficient, all of these result are then stored in a cache for later usage, we also output the name of significant columns so we can focus on them."
   ]
  },
  {
   "cell_type": "code",
   "execution_count": 6,
   "metadata": {},
   "outputs": [
    {
     "name": "stdout",
     "output_type": "stream",
     "text": [
      "Medu is likely a parameter of interest\n",
      "Fedu is likely a parameter of interest\n",
      "Mjob is likely a parameter of interest\n",
      "studytime is likely a parameter of interest\n",
      "failures is likely a parameter of interest\n",
      "schoolsup is likely a parameter of interest\n",
      "higher is likely a parameter of interest\n",
      "romantic is likely a parameter of interest\n",
      "Walc is likely a parameter of interest\n",
      "G1 is likely a parameter of interest\n",
      "G2 is likely a parameter of interest\n"
     ]
    }
   ],
   "source": [
    "# All column names.\n",
    "col_names = math.columns.tolist()\n",
    "# Structure: value_cache[parameter]: [p_value, raw_p_value, r_value]\n",
    "value_cache = dict.fromkeys(col_names)\n",
    "# Loop through all parameters.\n",
    "for each in col_names:\n",
    "    if each == \"G3\":\n",
    "        continue\n",
    "    value_cache[each] = []\n",
    "    # P value for cleaned data\n",
    "    grouped = math_cleaned.groupby(each)[\"G3\"].agg(lambda x: list(x)).tolist()\n",
    "    p_value = stats.f_oneway(*grouped)[1]\n",
    "    value_cache[each].append(p_value)\n",
    "    # P value for raw data\n",
    "    grouped = math.groupby(each)[\"G3\"].agg(lambda x: list(x)).tolist()\n",
    "    pr_value = stats.f_oneway(*grouped)[1]\n",
    "    value_cache[each].append(pr_value)\n",
    "    # Can only proceed with r_value if indexes are numeric.\n",
    "    if all([type(e) == int for e in list(math_cleaned[each])]):\n",
    "        r_value = stats.linregress(math_cleaned[each], math_cleaned[\"G3\"])[2]\n",
    "        value_cache[each].append(r_value)\n",
    "    if p_value < 0.01 or pr_value < 0.01:\n",
    "        print(\"%s is likely a parameter of interest\" % each)"
   ]
  },
  {
   "cell_type": "markdown",
   "metadata": {},
   "source": [
    "We'll then plot a graph to show exactly how significantly correlated each of the columns are with the final test score. In the subsequent graph, the higher the bar, the more significantly related is the column to the test score."
   ]
  },
  {
   "cell_type": "code",
   "execution_count": 7,
   "metadata": {},
   "outputs": [
    {
     "data": {
      "image/png": "[encoded data removed]",
      "text/plain": [
       "<matplotlib.figure.Figure at 0x113748c50>"
      ]
     },
     "metadata": {},
     "output_type": "display_data"
    }
   ],
   "source": [
    "# Plot a graph on log scale\n",
    "plt.rcParams['figure.figsize'] = [14, 8]\n",
    "pvalues = list(filter(None, list(value_cache.values())))\n",
    "plt.bar(np.arange(len(value_cache)-1)-0.2, [np.log(l[0]) for l in pvalues], align=\"center\", width = 0.4, edgecolor=\"k\")\n",
    "plt.bar(np.arange(len(value_cache)-1)+0.2, [np.log(l[1]) for l in pvalues], align=\"center\", width = 0.4, edgecolor=\"k\")\n",
    "plt.xticks(range(len(value_cache)-1), list(value_cache.keys()), rotation=\"vertical\")\n",
    "plt.ylabel(\"Significance\")\n",
    "plt.ylim(0, -20)\n",
    "plt.legend([\"Cleaned Data\", \"Raw Data\"])\n",
    "plt.show()\n",
    "# Revert plt figsize for subsequent figures.\n",
    "plt.rcParams['figure.figsize'] = [8, 5]\n",
    "\n",
    "# Higher -> More significantly correlated."
   ]
  },
  {
   "cell_type": "markdown",
   "metadata": {},
   "source": [
    "From above data, we can deduce a couple of very significant (P < 0.01) independent variables affecting final test scores:\n",
    "\n",
    "1. Medu, Mother's Education\n",
    "2. Fedu, Father's Education\n",
    "3. Mjob, Mother's Occupation\n",
    "4. studytime, Time spent studying per week.\n",
    "5. failures, Past failures. VERY MUCH.\n",
    "6. schoolsup, Extra Educational Support. VERY MUCH.\n",
    "7. higher, Wanting to enroll in higher education.\n",
    "8. romantic, In a relationship.\n",
    "9. Walc, alcohol consumption on weekends (??)\n",
    "\n",
    "In addition to those parameters, The G1, G2 tests are highly correlated with the final test G3, with R_value of 0.89 and 0.97 respectively, as expected.\n",
    "\n",
    "Some of these have better significance on raw data, others are opposite. There's a very explainable reason to that. For now, we'll continue and go on to explore some of these significant factors\n",
    "\n",
    "### Further Exploration\n",
    "\n",
    "#### Study Time\n",
    "\n",
    "We'll start digging into studytime, as a beginner."
   ]
  },
  {
   "cell_type": "code",
   "execution_count": 9,
   "metadata": {},
   "outputs": [
    {
     "data": {
      "text/html": [
       "<div>\n",
       "<style scoped>\n",
       "    .dataframe tbody tr th:only-of-type {\n",
       "        vertical-align: middle;\n",
       "    }\n",
       "\n",
       "    .dataframe tbody tr th {\n",
       "        vertical-align: top;\n",
       "    }\n",
       "\n",
       "    .dataframe thead th {\n",
       "        text-align: right;\n",
       "    }\n",
       "</style>\n",
       "<table border=\"1\" class=\"dataframe\">\n",
       "  <thead>\n",
       "    <tr style=\"text-align: right;\">\n",
       "      <th></th>\n",
       "      <th>std</th>\n",
       "      <th>count</th>\n",
       "      <th>mean</th>\n",
       "    </tr>\n",
       "    <tr>\n",
       "      <th>studytime</th>\n",
       "      <th></th>\n",
       "      <th></th>\n",
       "      <th></th>\n",
       "    </tr>\n",
       "  </thead>\n",
       "  <tbody>\n",
       "    <tr>\n",
       "      <th>1</th>\n",
       "      <td>3.407977</td>\n",
       "      <td>92</td>\n",
       "      <td>11.467391</td>\n",
       "    </tr>\n",
       "    <tr>\n",
       "      <th>2</th>\n",
       "      <td>3.067571</td>\n",
       "      <td>182</td>\n",
       "      <td>11.065934</td>\n",
       "    </tr>\n",
       "    <tr>\n",
       "      <th>3</th>\n",
       "      <td>2.990048</td>\n",
       "      <td>59</td>\n",
       "      <td>12.559322</td>\n",
       "    </tr>\n",
       "    <tr>\n",
       "      <th>4</th>\n",
       "      <td>3.595488</td>\n",
       "      <td>24</td>\n",
       "      <td>12.666667</td>\n",
       "    </tr>\n",
       "  </tbody>\n",
       "</table>\n",
       "</div>"
      ],
      "text/plain": [
       "                std  count       mean\n",
       "studytime                            \n",
       "1          3.407977     92  11.467391\n",
       "2          3.067571    182  11.065934\n",
       "3          2.990048     59  12.559322\n",
       "4          3.595488     24  12.666667"
      ]
     },
     "metadata": {},
     "output_type": "display_data"
    }
   ],
   "source": [
    "def showchart(col_name):\n",
    "    chart = math_cleaned.groupby(col_name)[\"G3\"].agg({\"mean\", \"count\", \"std\"})\n",
    "    display(chart)\n",
    "\n",
    "showchart(\"studytime\")"
   ]
  },
  {
   "cell_type": "markdown",
   "metadata": {},
   "source": [
    "It appears that most people study less than 5 hours a week. It does seem to have relatively strong correlation with final. We'll draw a box plot to visualize the data."
   ]
  },
  {
   "cell_type": "code",
   "execution_count": 20,
   "metadata": {},
   "outputs": [
    {
     "data": {
      "text/plain": [
       "<matplotlib.axes._subplots.AxesSubplot at 0x1148599b0>"
      ]
     },
     "metadata": {},
     "output_type": "display_data"
    },
    {
     "name": "stdout",
     "output_type": "stream",
     "text": [
      "P value: 0.004825\n",
      "R value: 0.126728\n"
     ]
    },
    {
     "data": {
      "image/png": "[encoded data removed]",
      "text/plain": [
       "<matplotlib.figure.Figure at 0x113e5d198>"
      ]
     },
     "metadata": {},
     "output_type": "display_data"
    }
   ],
   "source": [
    "# Boxplot for study time vs final score.\n",
    "agescore = math_cleaned.pivot(columns=\"studytime\")\n",
    "ax = agescore[\"G3\"].boxplot()\n",
    "ax.set_xlabel(\"Study Time (hours)\")\n",
    "ax.set_ylabel(\"G3 Test Result\")\n",
    "ax.set_xticklabels([\"<2\", \"2-5\", \"5-10\", \">10\"])\n",
    "ax.set_title(\"Study time and final test score\")\n",
    "display(ax)\n",
    "\n",
    "# Display P and R values\n",
    "p_value = value_cache[\"studytime\"][0]\n",
    "r_value = value_cache[\"studytime\"][2]\n",
    "print(\"P value: %f\" % p_value)\n",
    "print(\"R value: %f\" % r_value)"
   ]
  },
  {
   "cell_type": "markdown",
   "metadata": {},
   "source": [
    "Study time have a very statistically significant (p = 0.0048) relationship with final test score, However, the correlation is not very strong at R = 0.126.\n",
    "\n",
    "This means that people who work hard each week do see improvements in their grade, however it is not a major reason for the differences between people's grades.\n",
    "\n",
    "#### Parent Education\n",
    "\n",
    "In previous section, we discovered that both mother's education and father's education has a significant impact on final grades. In order to assess each, we must be mindful of the relationship between Medu and Fedu - If they are related to a large extent, then we cannot treat both of them as individual variable. We first test the relationship between father's education level and mother's to see if they're strongly correlated."
   ]
  },
  {
   "cell_type": "code",
   "execution_count": 11,
   "metadata": {},
   "outputs": [
    {
     "name": "stdout",
     "output_type": "stream",
     "text": [
      "R value = 0.623455 \n"
     ]
    }
   ],
   "source": [
    "# Since Medu and Fedu are not affected by the event where student receive 0 on final, I'll use full dataset.\n",
    "r_value = stats.linregress(math[\"Fedu\"], math[\"Medu\"])[2]\n",
    "print(\"R value = %.06f \" % r_value)"
   ]
  },
  {
   "cell_type": "markdown",
   "metadata": {},
   "source": [
    "It turns out they are strongly correlated. To objectively measure the effect of an individual component, I decide to merge both variable into a single variable by summation."
   ]
  },
  {
   "cell_type": "code",
   "execution_count": 23,
   "metadata": {},
   "outputs": [
    {
     "data": {
      "text/html": [
       "<div>\n",
       "<style scoped>\n",
       "    .dataframe tbody tr th:only-of-type {\n",
       "        vertical-align: middle;\n",
       "    }\n",
       "\n",
       "    .dataframe tbody tr th {\n",
       "        vertical-align: top;\n",
       "    }\n",
       "\n",
       "    .dataframe thead th {\n",
       "        text-align: right;\n",
       "    }\n",
       "</style>\n",
       "<table border=\"1\" class=\"dataframe\">\n",
       "  <thead>\n",
       "    <tr style=\"text-align: right;\">\n",
       "      <th></th>\n",
       "      <th>std</th>\n",
       "      <th>count</th>\n",
       "      <th>mean</th>\n",
       "    </tr>\n",
       "    <tr>\n",
       "      <th>Pedu</th>\n",
       "      <th></th>\n",
       "      <th></th>\n",
       "      <th></th>\n",
       "    </tr>\n",
       "  </thead>\n",
       "  <tbody>\n",
       "    <tr>\n",
       "      <th>1</th>\n",
       "      <td>4.949747</td>\n",
       "      <td>2</td>\n",
       "      <td>12.500000</td>\n",
       "    </tr>\n",
       "    <tr>\n",
       "      <th>2</th>\n",
       "      <td>2.570963</td>\n",
       "      <td>33</td>\n",
       "      <td>10.212121</td>\n",
       "    </tr>\n",
       "    <tr>\n",
       "      <th>3</th>\n",
       "      <td>2.724958</td>\n",
       "      <td>36</td>\n",
       "      <td>11.055556</td>\n",
       "    </tr>\n",
       "    <tr>\n",
       "      <th>4</th>\n",
       "      <td>3.031918</td>\n",
       "      <td>63</td>\n",
       "      <td>10.968254</td>\n",
       "    </tr>\n",
       "    <tr>\n",
       "      <th>5</th>\n",
       "      <td>3.366666</td>\n",
       "      <td>43</td>\n",
       "      <td>11.372093</td>\n",
       "    </tr>\n",
       "    <tr>\n",
       "      <th>6</th>\n",
       "      <td>3.099146</td>\n",
       "      <td>62</td>\n",
       "      <td>11.661290</td>\n",
       "    </tr>\n",
       "    <tr>\n",
       "      <th>7</th>\n",
       "      <td>3.680028</td>\n",
       "      <td>52</td>\n",
       "      <td>12.211538</td>\n",
       "    </tr>\n",
       "    <tr>\n",
       "      <th>8</th>\n",
       "      <td>3.354154</td>\n",
       "      <td>66</td>\n",
       "      <td>12.363636</td>\n",
       "    </tr>\n",
       "  </tbody>\n",
       "</table>\n",
       "</div>"
      ],
      "text/plain": [
       "           std  count       mean\n",
       "Pedu                            \n",
       "1     4.949747      2  12.500000\n",
       "2     2.570963     33  10.212121\n",
       "3     2.724958     36  11.055556\n",
       "4     3.031918     63  10.968254\n",
       "5     3.366666     43  11.372093\n",
       "6     3.099146     62  11.661290\n",
       "7     3.680028     52  12.211538\n",
       "8     3.354154     66  12.363636"
      ]
     },
     "metadata": {},
     "output_type": "display_data"
    },
    {
     "name": "stdout",
     "output_type": "stream",
     "text": [
      "R value: 0.194736\n",
      "R value of Medu: 0.190308\n",
      "R value of Fedu: 0.158811\n"
     ]
    },
    {
     "data": {
      "image/png": "[encoded data removed]",
      "text/plain": [
       "<matplotlib.figure.Figure at 0x1145562e8>"
      ]
     },
     "metadata": {},
     "output_type": "display_data"
    },
    {
     "data": {
      "text/plain": [
       "<matplotlib.axes._subplots.AxesSubplot at 0x1144766d8>"
      ]
     },
     "metadata": {},
     "output_type": "display_data"
    },
    {
     "data": {
      "image/png": "[encoded data removed]",
      "text/plain": [
       "<matplotlib.figure.Figure at 0x113d026d8>"
      ]
     },
     "metadata": {},
     "output_type": "display_data"
    }
   ],
   "source": [
    "math_cleaned = math_cleaned.assign(Pedu = math_cleaned.Medu + math_cleaned.Fedu)\n",
    "\n",
    "showchart(\"Pedu\")\n",
    "\n",
    "r_value = stats.linregress(math_cleaned[\"Pedu\"], math_cleaned[\"G3\"])[2]\n",
    "print(\"R value: %.06f\" % r_value)\n",
    "print(\"R value of Medu: %.06f\"% value_cache[\"Medu\"][2])\n",
    "print(\"R value of Fedu: %.06f\"% value_cache[\"Fedu\"][2])\n",
    "\n",
    "# Reject Pedu = 1 due to small sample size of 2.\n",
    "chart = math_cleaned[math_cleaned[\"Pedu\"] != 1].groupby(\"Pedu\")[\"G3\"].mean().plot()\n",
    "plt.xlabel(\"Parent Education Level\")\n",
    "plt.ylabel(\"G3 Test Result\")\n",
    "plt.title(\"Parent Education and Average Test Grade\")\n",
    "plt.grid(True)\n",
    "plt.show()\n",
    "\n",
    "pedu = math_cleaned[math_cleaned[\"Pedu\"] != 1].pivot(columns=\"Pedu\")\n",
    "ax = pedu[\"G3\"].boxplot()\n",
    "ax.set_xlabel(\"Parent Education Level\")\n",
    "ax.set_ylabel(\"G3 Test Result\")\n",
    "ax.set_title(\"Parent education level and final test score\")\n",
    "display(ax)"
   ]
  },
  {
   "cell_type": "markdown",
   "metadata": {},
   "source": [
    "As we analyze the charts above, we can draw some definite conclusions:\n",
    "\n",
    "1. Parent education level significantly correlates with student average score.\n",
    "2. The correlation is strong for a single factor at 0.2\n",
    "3. A combined parental education level is a better indicator then either of them separated.\n",
    "\n",
    "#### School Support\n",
    "\n",
    "We'll look into school support and create a stacked histogram."
   ]
  },
  {
   "cell_type": "code",
   "execution_count": 25,
   "metadata": {},
   "outputs": [
    {
     "data": {
      "text/html": [
       "<div>\n",
       "<style scoped>\n",
       "    .dataframe tbody tr th:only-of-type {\n",
       "        vertical-align: middle;\n",
       "    }\n",
       "\n",
       "    .dataframe tbody tr th {\n",
       "        vertical-align: top;\n",
       "    }\n",
       "\n",
       "    .dataframe thead th {\n",
       "        text-align: right;\n",
       "    }\n",
       "</style>\n",
       "<table border=\"1\" class=\"dataframe\">\n",
       "  <thead>\n",
       "    <tr style=\"text-align: right;\">\n",
       "      <th></th>\n",
       "      <th>std</th>\n",
       "      <th>count</th>\n",
       "      <th>mean</th>\n",
       "    </tr>\n",
       "    <tr>\n",
       "      <th>schoolsup</th>\n",
       "      <th></th>\n",
       "      <th></th>\n",
       "      <th></th>\n",
       "    </tr>\n",
       "  </thead>\n",
       "  <tbody>\n",
       "    <tr>\n",
       "      <th>no</th>\n",
       "      <td>3.222940</td>\n",
       "      <td>307</td>\n",
       "      <td>11.833876</td>\n",
       "    </tr>\n",
       "    <tr>\n",
       "      <th>yes</th>\n",
       "      <td>2.554628</td>\n",
       "      <td>50</td>\n",
       "      <td>9.620000</td>\n",
       "    </tr>\n",
       "  </tbody>\n",
       "</table>\n",
       "</div>"
      ],
      "text/plain": [
       "                std  count       mean\n",
       "schoolsup                            \n",
       "no         3.222940    307  11.833876\n",
       "yes        2.554628     50   9.620000"
      ]
     },
     "metadata": {},
     "output_type": "display_data"
    },
    {
     "data": {
      "image/png": "[encoded data removed]",
      "text/plain": [
       "<matplotlib.figure.Figure at 0x1139da860>"
      ]
     },
     "metadata": {},
     "output_type": "display_data"
    }
   ],
   "source": [
    "showchart(\"schoolsup\")\n",
    "\n",
    "# We'll create a stacked histogram for this purpose\n",
    "bins = np.linspace(-0.5, 20.5, 22)\n",
    "plt.figure()\n",
    "plt.hist(math[math[\"schoolsup\"] == \"yes\"][\"G3\"], bins, stacked=True, color=\"green\", alpha=0.6, edgecolor=\"k\")\n",
    "plt.hist(math[math[\"schoolsup\"] == \"no\"][\"G3\"], bins, stacked=True, color=\"yellow\", alpha=0.6, edgecolor=\"k\")\n",
    "# plt.hist(math_cleaned[math_cleaned[\"schoolsup\"] == \"yes\"][\"G3\"], bins, stacked=True, color=\"green\", alpha=0.6, edgecolor=\"k\")\n",
    "# plt.hist(math_cleaned[math_cleaned[\"schoolsup\"] == \"no\"][\"G3\"], bins, stacked=True, color=\"yellow\", alpha=0.6, edgecolor=\"k\")\n",
    "plt.xlabel(\"Score\")\n",
    "plt.ylabel(\"Count\")\n",
    "plt.legend([\"With School Support\", \"Without School Support\"])\n",
    "plt.show()"
   ]
  },
  {
   "cell_type": "markdown",
   "metadata": {},
   "source": [
    "We can see that students with school supports exist overwhelmingly in the lower-middle score range. If we can have the previous year's student score for these students, we can then create an accurate assessment of the effect of school support project. We already see that they are spreading towards the top - which is a sign that the school support is working, if they came from exclusively lower quandrant.\n",
    "\n",
    "An important takeaway here is that student under school support are much less likely to score zero.\n",
    "\n",
    "#### Romantic\n",
    "\n",
    "We'll now explore how romantic relationships affect students."
   ]
  },
  {
   "cell_type": "code",
   "execution_count": 24,
   "metadata": {},
   "outputs": [
    {
     "data": {
      "text/html": [
       "<div>\n",
       "<style scoped>\n",
       "    .dataframe tbody tr th:only-of-type {\n",
       "        vertical-align: middle;\n",
       "    }\n",
       "\n",
       "    .dataframe tbody tr th {\n",
       "        vertical-align: top;\n",
       "    }\n",
       "\n",
       "    .dataframe thead th {\n",
       "        text-align: right;\n",
       "    }\n",
       "</style>\n",
       "<table border=\"1\" class=\"dataframe\">\n",
       "  <thead>\n",
       "    <tr style=\"text-align: right;\">\n",
       "      <th></th>\n",
       "      <th>std</th>\n",
       "      <th>count</th>\n",
       "      <th>mean</th>\n",
       "    </tr>\n",
       "    <tr>\n",
       "      <th>romantic</th>\n",
       "      <th></th>\n",
       "      <th></th>\n",
       "      <th></th>\n",
       "    </tr>\n",
       "  </thead>\n",
       "  <tbody>\n",
       "    <tr>\n",
       "      <th>no</th>\n",
       "      <td>3.369912</td>\n",
       "      <td>245</td>\n",
       "      <td>11.632653</td>\n",
       "    </tr>\n",
       "    <tr>\n",
       "      <th>yes</th>\n",
       "      <td>2.892764</td>\n",
       "      <td>112</td>\n",
       "      <td>11.285714</td>\n",
       "    </tr>\n",
       "  </tbody>\n",
       "</table>\n",
       "</div>"
      ],
      "text/plain": [
       "               std  count       mean\n",
       "romantic                            \n",
       "no        3.369912    245  11.632653\n",
       "yes       2.892764    112  11.285714"
      ]
     },
     "metadata": {},
     "output_type": "display_data"
    },
    {
     "name": "stdout",
     "output_type": "stream",
     "text": [
      "ANOVA for cleaned data\n",
      "--------------------\n",
      "P value: 0.346739\n",
      "\n",
      "ANOVA for raw data\n",
      "--------------------\n",
      "P value: 0.009713\n"
     ]
    }
   ],
   "source": [
    "# Analyze relationship because it's interesting :)\n",
    "\n",
    "showchart(\"romantic\")\n",
    "\n",
    "p_value = value_cache[\"romantic\"][0]\n",
    "r_value = value_cache[\"romantic\"][1]\n",
    "print(\"ANOVA for cleaned data\")\n",
    "print(\"--------------------\")\n",
    "print(\"P value: %f\" % p_value)\n",
    "print()\n",
    "print(\"ANOVA for raw data\")\n",
    "print(\"--------------------\")\n",
    "print(\"P value: %f\" % r_value)"
   ]
  },
  {
   "cell_type": "markdown",
   "metadata": {},
   "source": [
    "We can see that raw data has a greater significance then cleaned data, in other words, students in relationship who actually took the test performed similarly `(P = 0.34)` with students who are single. However, they have a much higher chance to not take the test and register a zero. We'll now explore how much more likely they'll do that:"
   ]
  },
  {
   "cell_type": "code",
   "execution_count": 15,
   "metadata": {},
   "outputs": [
    {
     "name": "stdout",
     "output_type": "stream",
     "text": [
      "20 out of 132 of students in a relationship got an zero in G3, which is 15.152 %\n",
      "18 out of 263 of students NOT in a relationship got an zero in G3, which is 6.844 %\n"
     ]
    }
   ],
   "source": [
    "romantic = (math[math[\"romantic\"] == \"yes\"])\n",
    "single = (math[math[\"romantic\"] == \"no\"])\n",
    "romantic_zeros = romantic[romantic[\"G3\"] == 0][\"romantic\"].count()\n",
    "single_zeros = single[single[\"G3\"] == 0][\"romantic\"].count()\n",
    "romantic_total = romantic[\"romantic\"].count()\n",
    "single_total = single[\"romantic\"].count()\n",
    "print(\"%d out of %d of students in a relationship got an zero in G3, which is %.03f %%\" % (romantic_zeros, romantic_total, romantic_zeros/romantic_total*100))\n",
    "print(\"%d out of %d of students NOT in a relationship got an zero in G3, which is %.03f %%\" % (single_zeros, single_total, single_zeros/single_total*100))"
   ]
  },
  {
   "cell_type": "markdown",
   "metadata": {},
   "source": [
    "## Conclusion\n",
    "\n",
    "From my experience, the overall flow when dealing with a data problem with many facets is to:\n",
    "\n",
    "1. Clean the data of outliers and anomalies, this significantly reduce noise and focus on the true underlying cause.\n",
    "2. Identify the interest by using automation, avoid poking at the data.\n",
    "3. Quickly establish the statistic and use scientific methods to find the strength of correlation.\n",
    "4. Establish result and present them.\n",
    "\n",
    "The results from this analysis includes:\n",
    "\n",
    "* These are the most influential factor to decide the test score:\n",
    "\n",
    "    1. Medu, Mother's Education\n",
    "    2. Fedu, Father's Education\n",
    "    3. Mjob, Mother's Occupation\n",
    "    4. studytime, Time spent studying per week.\n",
    "    5. failures, Past failures. VERY MUCH.\n",
    "    6. schoolsup, Extra Educational Support. VERY MUCH.\n",
    "    7. higher, Wanting to enroll in higher education.\n",
    "    8. romantic, In a relationship.\n",
    "    9. Walc, alcohol consumption on weekends (??)\n",
    "    \n",
    "* People in relationship are much more likely to score zero (15% vs 6.7%), those who doesn't score a zero does as well as other people in finals. \n",
    "\n",
    "* Student in school support are much less likely to score zero on tests, but does poorer when compared with other students who didn't score a zero.\n",
    "\n",
    "* Parent education significantly influence student test grade, more education the better.\n",
    "\n",
    "* Study time significantly influence student test grade, but doesn't have as large an effect as parent education.\n",
    "\n",
    "* More insights about this particular data:\n",
    "\n",
    "    If there's a large discrepancy of significance between cleaned data and raw data, this means that test takers have a significantly different approach to scoring a zero - whatever that means. For example, without going into numbers, Student who aspire to go onto higher education did not register so much of a difference in the cleaned data, however they stood out in raw data - this is only possible because these student are much less likely to score an zero, which probably meant they would show up on time when it's exam time and not cheat. Similarly, large discrepancy between cleaned and raw data means that those who are on school support didn't run away from test - this may seem counter the last case, but since students on school support perform poorer than average student, average student who get zeros lessen the difference, creating a much less stark contrast.\n",
    "\n",
    "\n",
    "## Bonus\n",
    "\n",
    "If I were to predict the data of the G3 test using all previous arguments, I would:\n",
    "\n",
    "1. Using traditional methods. If G1 and G2 are given, they're HIGHLY correlated to G3 results by far. I would almost base all the weights on G2, and predict using a strong correlation model where they'll be based on how they did on G2. With minor consideration for other elements such as drinking, which will be incorporated after being checked for correlation.\n",
    "\n",
    "2. Using traditional methods. If G1 and G2 are NOT available. I would have to identify a couple of individual variables that are less correlated with each other while majorly correlated with G3 test. and then after that create a multi-variable regression, and predict accordingly.\n",
    "\n",
    "3. Alternatively, I can use SVM which take in both binary data and more linear data with ease, I only need to remind myself not to over train the model. It would also be easier as the output would have been between 0 and 1, which could be intepreted as pass/nopass.\n",
    "\"\"\""
   ]
  }
 ],
 "metadata": {
  "kernelspec": {
   "display_name": "Python 3",
   "language": "python",
   "name": "python3"
  },
  "language_info": {
   "codemirror_mode": {
    "name": "ipython",
    "version": 3
   },
   "file_extension": ".py",
   "mimetype": "text/x-python",
   "name": "python",
   "nbconvert_exporter": "python",
   "pygments_lexer": "ipython3",
   "version": "3.6.4"
  }
 },
 "nbformat": 4,
 "nbformat_minor": 2
}
